{
  "cells": [
    {
      "cell_type": "markdown",
      "source": [
        "  **Restful Api**\n"
      ],
      "metadata": {
        "id": "aNoboaNLPVQ2"
      },
      "id": "aNoboaNLPVQ2"
    },
    {
      "cell_type": "markdown",
      "source": [
        "1. What is a RESTful API?\n",
        "\n",
        "---\n",
        "Ans: A RESTful API (Representational State Transfer Application Programming Interface) is a way for different software systems to communicate over the web using standard HTTP methods like GET, POST, PUT, and DELETE.\n",
        "\n",
        "In Python, RESTful APIs are commonly built using frameworks like Flask or Django.\n",
        "\n",
        "\n"
      ],
      "metadata": {
        "id": "R4iHsJBnPVLk"
      },
      "id": "R4iHsJBnPVLk"
    },
    {
      "cell_type": "markdown",
      "source": [
        "2. Explain the concept of API specification?\n",
        "\n",
        "---\n",
        "\n",
        "\n",
        "\n",
        "Ans: An API specification is a detailed description of how an API works. It defines what endpoints are available, what requests are allowed, what parameters can be sent, and what responses to expect.\n",
        "\n",
        "\n"
      ],
      "metadata": {
        "id": "b1KT9-xnPVH_"
      },
      "id": "b1KT9-xnPVH_"
    },
    {
      "cell_type": "markdown",
      "source": [
        "3. What is Flask, and why is it popular for building APIs?\n",
        "\n",
        "---\n",
        "\n",
        "Ans: Flask is a lightweight Python web framework used to build web applications and APIs. It’s popular because it is simple, flexible, and easy to get started with. It supports RESTful routing, is extensible through plugins, and works well for small to medium-sized API projects.\n",
        "\n"
      ],
      "metadata": {
        "id": "kcbHkNMDPVEi"
      },
      "id": "kcbHkNMDPVEi"
    },
    {
      "cell_type": "markdown",
      "source": [
        "4. What is routing in Flask?\n",
        "\n",
        "\n",
        "\n",
        "---\n",
        "Ans: Routing in Flask refers to the process of mapping URLs (web addresses) to Python functions. These functions are known as view functions and define what should happen when a user accesses a particular URL.\n"
      ],
      "metadata": {
        "id": "9-Tl-CGCPVBO"
      },
      "id": "9-Tl-CGCPVBO"
    },
    {
      "cell_type": "markdown",
      "source": [
        "5. How do you create a simple Flask application?\n",
        "\n",
        "---\n",
        "Ans: To create a simple Flask application, you need to:\n",
        "\n",
        "\n",
        "\n",
        "1.   **Install Flask**\n",
        "\n",
        "1.   **Import Flask into a Python script**\n",
        "\n",
        "1.   **Create an app instance**\n",
        "2.   **Define a route**\n",
        "\n",
        "\n",
        "5.   **Run the app**\n",
        "\n",
        "\n",
        "\n",
        "\n"
      ],
      "metadata": {
        "id": "WGwps1KjPU9C"
      },
      "id": "WGwps1KjPU9C"
    },
    {
      "cell_type": "markdown",
      "source": [
        "6. What are HTTP Methods Used in RESTful APIs?\n",
        "\n",
        "\n",
        "---\n",
        "Ans: In RESTful APIs, HTTP methods are used to perform different actions on data stored on a server. These methods help the client (like a web or mobile app) tell the server what it wants to do.\n",
        "\n",
        "Here are the most commonly used HTTP methods:\n",
        "\n",
        "\n",
        "\n",
        "*   GET is used to retrieve data from the server. For example, you can use it to get a list of books or view the details of one book.\n",
        "\n",
        "*   POST is used to create new data. For example, you can send a request to add a new book to the server.\n",
        "\n",
        "\n",
        "\n",
        "*   PUT is used to update existing data completely. For example, if you want to change all the information of a book, you use PUT\n",
        "\n",
        "*   PATCH is used to update part of the data. For example, if you only want to change the book title and leave the rest the same, you use PATCH.\n",
        "\n",
        "\n",
        "*   DELETE is used to remove data. For example, you can use it to delete a book from the server.\n",
        "\n",
        "\n",
        "\n",
        "\n",
        "\n",
        "\n",
        "\n"
      ],
      "metadata": {
        "id": "TzsONk4pPU5p"
      },
      "id": "TzsONk4pPU5p"
    },
    {
      "cell_type": "markdown",
      "source": [
        "7. What is the purpose of the @app.route() decorator in Flask?\n",
        "\n",
        "---\n",
        "Ans: In Flask, the @app.route() decorator is used to connect a URL (web address) to a specific function in your Python code. This function is called a view function, and it defines what should happen when someone visits that URL in their browser or makes a request to it.\n"
      ],
      "metadata": {
        "id": "3J97t0l9PU2k"
      },
      "id": "3J97t0l9PU2k"
    },
    {
      "cell_type": "markdown",
      "source": [
        "8. What is the difference between GET and POST HTTP methods?\n",
        "\n",
        "---\n",
        "Ans: The GET and POST methods are two of the most commonly used HTTP methods in RESTful APIs. They are used to handle different types of requests between a client (like a browser or app) and a server.\n",
        "\n",
        "\n"
      ],
      "metadata": {
        "id": "vyQhcSvnPUs0"
      },
      "id": "vyQhcSvnPUs0"
    },
    {
      "cell_type": "markdown",
      "source": [
        "9. How do you handle errors in Flask APIs?\n",
        "\n",
        "---\n",
        "Ans: In Flask APIs, you can handle errors by using custom error handlers. This helps you return clear, user-friendly messages when something goes wrong, instead of showing a default error page.\n"
      ],
      "metadata": {
        "id": "NmxAeRGTPUpb"
      },
      "id": "NmxAeRGTPUpb"
    },
    {
      "cell_type": "markdown",
      "source": [
        "10. How do you connect Flask to a SQL database?\n",
        "\n",
        "---\n",
        "Ans: To connect Flask to a SQL database, you can use the Flask-SQLAlchemy extension. It makes it easy to work with databases using Python code instead of writing raw SQL.\n"
      ],
      "metadata": {
        "id": "Vw8E-eLxPUmO"
      },
      "id": "Vw8E-eLxPUmO"
    },
    {
      "cell_type": "markdown",
      "source": [
        "11. What is the role of Flask-SQLAlchemy?\n",
        "\n",
        "---\n",
        "Ans: Flask-SQLAlchemy is a Flask extension that helps you work with SQL databases more easily using Python code. It acts as a bridge between Flask and SQL databases like SQLite, MySQL, or PostgreSQL, and uses an ORM (Object-Relational Mapping) system.\n"
      ],
      "metadata": {
        "id": "zwKCaq82PUjQ"
      },
      "id": "zwKCaq82PUjQ"
    },
    {
      "cell_type": "markdown",
      "source": [
        "12. What are Flask blueprints, and how are they useful?\n",
        "\n",
        "---\n",
        "Ans: Flask Blueprints are a way to organize your Flask app into smaller, reusable pieces. Instead of putting all your routes and logic in one file, you can split them into multiple files (or \"blueprints\") to keep your code clean and well-organized.\n"
      ],
      "metadata": {
        "id": "MyK4tca5PUgi"
      },
      "id": "MyK4tca5PUgi"
    },
    {
      "cell_type": "markdown",
      "source": [
        "13. What is the Purpose of Flask’s request Object?\n",
        "\n",
        "---\n",
        "Ans: The request object in Flask is used to access and handle data that is sent by the client (such as a web browser or mobile app) when making an HTTP request to the server. It plays a crucial role in building dynamic and interactive web applications and APIs.\n",
        "\n",
        "**Purpose**: It allows the server to receive data from the client, helps the application understand what the client is asking for, and supports multiple request types including GET, POST, PUT, and DELETE.\n",
        "\n"
      ],
      "metadata": {
        "id": "iKsqhk6jPUdx"
      },
      "id": "iKsqhk6jPUdx"
    },
    {
      "cell_type": "markdown",
      "source": [
        "14. How do you create a RESTful API endpoint using Flask?\n",
        "\n",
        "---\n",
        "Ans: To create a RESTful API endpoint using Flask, you define a route (URL path) and connect it to a view function using the @app.route() decorator. This function handles specific HTTP methods like GET, POST, PUT, or DELETE and responds with data, usually in JSON format.\n",
        "\n",
        "\n"
      ],
      "metadata": {
        "id": "g1MqQflYPUa7"
      },
      "id": "g1MqQflYPUa7"
    },
    {
      "cell_type": "markdown",
      "source": [
        "15. What is the purpose of Flask's jsonify() function?\n",
        "\n",
        "---\n",
        "Ans: The jsonify() function in Flask is used to convert Python data (like dictionaries or lists) into JSON format, which is the standard format for sending data over APIs. It also sets the correct Content-Type (application/json) in the HTTP response header.\n"
      ],
      "metadata": {
        "id": "YQhyZBZBPUYF"
      },
      "id": "YQhyZBZBPUYF"
    },
    {
      "cell_type": "markdown",
      "source": [
        "16. Explain Flask’s url_for() function?\n",
        "\n",
        "---\n",
        "Ans: The url_for() function in Flask is used to build dynamic URLs for your routes based on the name of the view function, rather than writing the URL path manually. This makes your code more flexible and less error-prone, especially when URLs change.\n"
      ],
      "metadata": {
        "id": "mn6JZdwIPUVO"
      },
      "id": "mn6JZdwIPUVO"
    },
    {
      "cell_type": "markdown",
      "source": [
        "17. How does Flask handle static files (CSS, JavaScript, etc.)?\n",
        "\n",
        "---\n",
        "Ans: Flask handles static files (like CSS, JavaScript, and images) using a special folder named static. By default, Flask automatically looks for static files in this folder and serves them to the browser.\n",
        "\n",
        "\n"
      ],
      "metadata": {
        "id": "6PYEqyQ6PUSg"
      },
      "id": "6PYEqyQ6PUSg"
    },
    {
      "cell_type": "markdown",
      "source": [
        "18. What is an API specification, and how does it help in building a Flask API?\n",
        "\n",
        "---\n",
        "Ans: An API specification is a detailed document or format that describes how an API should work. It defines the available endpoints, the methods (like GET or POST), the input parameters, the response format, and possible error codes.\n"
      ],
      "metadata": {
        "id": "zsrX55TzPUPq"
      },
      "id": "zsrX55TzPUPq"
    },
    {
      "cell_type": "markdown",
      "source": [
        "19. What are HTTP status codes, and why are they important in a Flask API?\n",
        "\n",
        "---\n",
        "Ans: HTTP status codes are three-digit numbers returned by a web server to indicate the result of a client’s request. They let the client (like a browser or mobile app) know whether the request was successful, failed, or needs more action.\n",
        "\n",
        "In a Flask API, these codes are important because they help communicate the outcome of each API call clearly.\n"
      ],
      "metadata": {
        "id": "HUSQkTCBPUM0"
      },
      "id": "HUSQkTCBPUM0"
    },
    {
      "cell_type": "markdown",
      "source": [
        "20. How do you handle POST requests in Flask?\n",
        "\n",
        "---\n",
        "Ans: In Flask, a POST request is used when the client wants to send data to the server, usually to create a new resource. You handle POST requests by defining a route that allows the POST method and by using Flask’s request object to read the data sent by the client.\n"
      ],
      "metadata": {
        "id": "Ql1fcrCJPUJ-"
      },
      "id": "Ql1fcrCJPUJ-"
    },
    {
      "cell_type": "markdown",
      "source": [
        "21. How would you secure a Flask API?\n",
        "\n",
        "---\n",
        "Ans: Securing a Flask API means protecting it from unauthorized access, data theft, and malicious attacks. Security is important to ensure only the right users can access or modify data, and that sensitive information is kept safe.\n"
      ],
      "metadata": {
        "id": "aD8wBDD7PUHH"
      },
      "id": "aD8wBDD7PUHH"
    },
    {
      "cell_type": "markdown",
      "source": [
        "22. What is the significance of the Flask-RESTful extension?\n",
        "\n",
        "---\n",
        "Ans: Flask-RESTful is an extension for Flask that makes it easier to build RESTful APIs. It adds useful features to help organize code better and handle common API tasks more efficiently.\n"
      ],
      "metadata": {
        "id": "lw1QvsGqPUER"
      },
      "id": "lw1QvsGqPUER"
    },
    {
      "cell_type": "markdown",
      "source": [
        " 23. What is the role of Flask’s session object?\n",
        "\n",
        "---\n",
        "Ans: The session object in Flask is used to store data for a specific user across multiple requests. It allows you to remember information (like login status or preferences) while the user is using the application.\n"
      ],
      "metadata": {
        "id": "AcT61hSGPUBa"
      },
      "id": "AcT61hSGPUBa"
    },
    {
      "cell_type": "code",
      "source": [
        "                                                     # Practical"
      ],
      "metadata": {
        "id": "vnyrB8lsL-XA"
      },
      "id": "vnyrB8lsL-XA",
      "execution_count": 57,
      "outputs": []
    },
    {
      "cell_type": "code",
      "source": [
        "# Install Flask and ngrok\n",
        "!pip install Flask Flask-ngrok"
      ],
      "metadata": {
        "colab": {
          "base_uri": "https://localhost:8080/"
        },
        "id": "HeveY10uPpRv",
        "outputId": "cf087775-083f-450b-d4b4-27c9e7126069"
      },
      "id": "HeveY10uPpRv",
      "execution_count": 58,
      "outputs": [
        {
          "output_type": "stream",
          "name": "stdout",
          "text": [
            "Requirement already satisfied: Flask in /usr/local/lib/python3.11/dist-packages (3.1.1)\n",
            "Requirement already satisfied: Flask-ngrok in /usr/local/lib/python3.11/dist-packages (0.0.25)\n",
            "Requirement already satisfied: blinker>=1.9.0 in /usr/local/lib/python3.11/dist-packages (from Flask) (1.9.0)\n",
            "Requirement already satisfied: click>=8.1.3 in /usr/local/lib/python3.11/dist-packages (from Flask) (8.2.1)\n",
            "Requirement already satisfied: itsdangerous>=2.2.0 in /usr/local/lib/python3.11/dist-packages (from Flask) (2.2.0)\n",
            "Requirement already satisfied: jinja2>=3.1.2 in /usr/local/lib/python3.11/dist-packages (from Flask) (3.1.6)\n",
            "Requirement already satisfied: markupsafe>=2.1.1 in /usr/local/lib/python3.11/dist-packages (from Flask) (3.0.2)\n",
            "Requirement already satisfied: werkzeug>=3.1.0 in /usr/local/lib/python3.11/dist-packages (from Flask) (3.1.3)\n",
            "Requirement already satisfied: requests in /usr/local/lib/python3.11/dist-packages (from Flask-ngrok) (2.32.3)\n",
            "Requirement already satisfied: charset-normalizer<4,>=2 in /usr/local/lib/python3.11/dist-packages (from requests->Flask-ngrok) (3.4.2)\n",
            "Requirement already satisfied: idna<4,>=2.5 in /usr/local/lib/python3.11/dist-packages (from requests->Flask-ngrok) (3.10)\n",
            "Requirement already satisfied: urllib3<3,>=1.21.1 in /usr/local/lib/python3.11/dist-packages (from requests->Flask-ngrok) (2.5.0)\n",
            "Requirement already satisfied: certifi>=2017.4.17 in /usr/local/lib/python3.11/dist-packages (from requests->Flask-ngrok) (2025.7.14)\n"
          ]
        }
      ]
    },
    {
      "cell_type": "code",
      "execution_count": 49,
      "id": "85c4606e",
      "metadata": {
        "colab": {
          "base_uri": "https://localhost:8080/"
        },
        "id": "85c4606e",
        "outputId": "48ed558f-55aa-49cf-d4ab-5f65990818c0"
      },
      "outputs": [
        {
          "metadata": {
            "tags": null
          },
          "name": "stdout",
          "output_type": "stream",
          "text": [
            " * Serving Flask app '__main__'\n",
            " * Debug mode: off\n"
          ]
        },
        {
          "metadata": {
            "tags": null
          },
          "name": "stderr",
          "output_type": "stream",
          "text": [
            "INFO:werkzeug:\u001b[31m\u001b[1mWARNING: This is a development server. Do not use it in a production deployment. Use a production WSGI server instead.\u001b[0m\n",
            " * Running on http://127.0.0.1:5000\n",
            "INFO:werkzeug:\u001b[33mPress CTRL+C to quit\u001b[0m\n",
            "ERROR:root:Unexpected exception finding object shape\n",
            "Traceback (most recent call last):\n",
            "  File \"/usr/local/lib/python3.11/dist-packages/google/colab/_debugpy_repr.py\", line 54, in get_shape\n",
            "    shape = getattr(obj, 'shape', None)\n",
            "            ^^^^^^^^^^^^^^^^^^^^^^^^^^^\n",
            "  File \"/usr/local/lib/python3.11/dist-packages/werkzeug/local.py\", line 318, in __get__\n",
            "    obj = instance._get_current_object()\n",
            "          ^^^^^^^^^^^^^^^^^^^^^^^^^^^^^^\n",
            "  File \"/usr/local/lib/python3.11/dist-packages/werkzeug/local.py\", line 519, in _get_current_object\n",
            "    raise RuntimeError(unbound_message) from None\n",
            "RuntimeError: Working outside of request context.\n",
            "\n",
            "This typically means that you attempted to use functionality that needed\n",
            "an active HTTP request. Consult the documentation on testing for\n",
            "information about how to avoid this problem.\n",
            "ERROR:root:Unexpected exception finding object shape\n",
            "Traceback (most recent call last):\n",
            "  File \"/usr/local/lib/python3.11/dist-packages/google/colab/_debugpy_repr.py\", line 54, in get_shape\n",
            "    shape = getattr(obj, 'shape', None)\n",
            "            ^^^^^^^^^^^^^^^^^^^^^^^^^^^\n",
            "  File \"/usr/local/lib/python3.11/dist-packages/werkzeug/local.py\", line 318, in __get__\n",
            "    obj = instance._get_current_object()\n",
            "          ^^^^^^^^^^^^^^^^^^^^^^^^^^^^^^\n",
            "  File \"/usr/local/lib/python3.11/dist-packages/werkzeug/local.py\", line 519, in _get_current_object\n",
            "    raise RuntimeError(unbound_message) from None\n",
            "RuntimeError: Working outside of request context.\n",
            "\n",
            "This typically means that you attempted to use functionality that needed\n",
            "an active HTTP request. Consult the documentation on testing for\n",
            "information about how to avoid this problem.\n",
            "ERROR:root:Unexpected exception finding object shape\n",
            "Traceback (most recent call last):\n",
            "  File \"/usr/local/lib/python3.11/dist-packages/google/colab/_debugpy_repr.py\", line 54, in get_shape\n",
            "    shape = getattr(obj, 'shape', None)\n",
            "            ^^^^^^^^^^^^^^^^^^^^^^^^^^^\n",
            "  File \"/usr/local/lib/python3.11/dist-packages/werkzeug/local.py\", line 318, in __get__\n",
            "    obj = instance._get_current_object()\n",
            "          ^^^^^^^^^^^^^^^^^^^^^^^^^^^^^^\n",
            "  File \"/usr/local/lib/python3.11/dist-packages/werkzeug/local.py\", line 519, in _get_current_object\n",
            "    raise RuntimeError(unbound_message) from None\n",
            "RuntimeError: Working outside of request context.\n",
            "\n",
            "This typically means that you attempted to use functionality that needed\n",
            "an active HTTP request. Consult the documentation on testing for\n",
            "information about how to avoid this problem.\n",
            "ERROR:root:Unexpected exception finding object shape\n",
            "Traceback (most recent call last):\n",
            "  File \"/usr/local/lib/python3.11/dist-packages/google/colab/_debugpy_repr.py\", line 54, in get_shape\n",
            "    shape = getattr(obj, 'shape', None)\n",
            "            ^^^^^^^^^^^^^^^^^^^^^^^^^^^\n",
            "  File \"/usr/local/lib/python3.11/dist-packages/werkzeug/local.py\", line 318, in __get__\n",
            "    obj = instance._get_current_object()\n",
            "          ^^^^^^^^^^^^^^^^^^^^^^^^^^^^^^\n",
            "  File \"/usr/local/lib/python3.11/dist-packages/werkzeug/local.py\", line 519, in _get_current_object\n",
            "    raise RuntimeError(unbound_message) from None\n",
            "RuntimeError: Working outside of request context.\n",
            "\n",
            "This typically means that you attempted to use functionality that needed\n",
            "an active HTTP request. Consult the documentation on testing for\n",
            "information about how to avoid this problem.\n",
            "ERROR:root:Unexpected exception finding object shape\n",
            "Traceback (most recent call last):\n",
            "  File \"/usr/local/lib/python3.11/dist-packages/google/colab/_debugpy_repr.py\", line 54, in get_shape\n",
            "    shape = getattr(obj, 'shape', None)\n",
            "            ^^^^^^^^^^^^^^^^^^^^^^^^^^^\n",
            "  File \"/usr/local/lib/python3.11/dist-packages/werkzeug/local.py\", line 318, in __get__\n",
            "    obj = instance._get_current_object()\n",
            "          ^^^^^^^^^^^^^^^^^^^^^^^^^^^^^^\n",
            "  File \"/usr/local/lib/python3.11/dist-packages/werkzeug/local.py\", line 519, in _get_current_object\n",
            "    raise RuntimeError(unbound_message) from None\n",
            "RuntimeError: Working outside of request context.\n",
            "\n",
            "This typically means that you attempted to use functionality that needed\n",
            "an active HTTP request. Consult the documentation on testing for\n",
            "information about how to avoid this problem.\n",
            "ERROR:root:Unexpected exception finding object shape\n",
            "Traceback (most recent call last):\n",
            "  File \"/usr/local/lib/python3.11/dist-packages/google/colab/_debugpy_repr.py\", line 54, in get_shape\n",
            "    shape = getattr(obj, 'shape', None)\n",
            "            ^^^^^^^^^^^^^^^^^^^^^^^^^^^\n",
            "  File \"/usr/local/lib/python3.11/dist-packages/werkzeug/local.py\", line 318, in __get__\n",
            "    obj = instance._get_current_object()\n",
            "          ^^^^^^^^^^^^^^^^^^^^^^^^^^^^^^\n",
            "  File \"/usr/local/lib/python3.11/dist-packages/werkzeug/local.py\", line 519, in _get_current_object\n",
            "    raise RuntimeError(unbound_message) from None\n",
            "RuntimeError: Working outside of request context.\n",
            "\n",
            "This typically means that you attempted to use functionality that needed\n",
            "an active HTTP request. Consult the documentation on testing for\n",
            "information about how to avoid this problem.\n",
            "ERROR:root:Unexpected exception finding object shape\n",
            "Traceback (most recent call last):\n",
            "  File \"/usr/local/lib/python3.11/dist-packages/google/colab/_debugpy_repr.py\", line 54, in get_shape\n",
            "    shape = getattr(obj, 'shape', None)\n",
            "            ^^^^^^^^^^^^^^^^^^^^^^^^^^^\n",
            "  File \"/usr/local/lib/python3.11/dist-packages/werkzeug/local.py\", line 318, in __get__\n",
            "    obj = instance._get_current_object()\n",
            "          ^^^^^^^^^^^^^^^^^^^^^^^^^^^^^^\n",
            "  File \"/usr/local/lib/python3.11/dist-packages/werkzeug/local.py\", line 519, in _get_current_object\n",
            "    raise RuntimeError(unbound_message) from None\n",
            "RuntimeError: Working outside of request context.\n",
            "\n",
            "This typically means that you attempted to use functionality that needed\n",
            "an active HTTP request. Consult the documentation on testing for\n",
            "information about how to avoid this problem.\n",
            "ERROR:root:Unexpected exception finding object shape\n",
            "Traceback (most recent call last):\n",
            "  File \"/usr/local/lib/python3.11/dist-packages/google/colab/_debugpy_repr.py\", line 54, in get_shape\n",
            "    shape = getattr(obj, 'shape', None)\n",
            "            ^^^^^^^^^^^^^^^^^^^^^^^^^^^\n",
            "  File \"/usr/local/lib/python3.11/dist-packages/werkzeug/local.py\", line 318, in __get__\n",
            "    obj = instance._get_current_object()\n",
            "          ^^^^^^^^^^^^^^^^^^^^^^^^^^^^^^\n",
            "  File \"/usr/local/lib/python3.11/dist-packages/werkzeug/local.py\", line 519, in _get_current_object\n",
            "    raise RuntimeError(unbound_message) from None\n",
            "RuntimeError: Working outside of request context.\n",
            "\n",
            "This typically means that you attempted to use functionality that needed\n",
            "an active HTTP request. Consult the documentation on testing for\n",
            "information about how to avoid this problem.\n",
            "ERROR:root:Unexpected exception finding object shape\n",
            "Traceback (most recent call last):\n",
            "  File \"/usr/local/lib/python3.11/dist-packages/google/colab/_debugpy_repr.py\", line 54, in get_shape\n",
            "    shape = getattr(obj, 'shape', None)\n",
            "            ^^^^^^^^^^^^^^^^^^^^^^^^^^^\n",
            "  File \"/usr/local/lib/python3.11/dist-packages/werkzeug/local.py\", line 318, in __get__\n",
            "    obj = instance._get_current_object()\n",
            "          ^^^^^^^^^^^^^^^^^^^^^^^^^^^^^^\n",
            "  File \"/usr/local/lib/python3.11/dist-packages/werkzeug/local.py\", line 519, in _get_current_object\n",
            "    raise RuntimeError(unbound_message) from None\n",
            "RuntimeError: Working outside of request context.\n",
            "\n",
            "This typically means that you attempted to use functionality that needed\n",
            "an active HTTP request. Consult the documentation on testing for\n",
            "information about how to avoid this problem.\n",
            "ERROR:root:Unexpected exception finding object shape\n",
            "Traceback (most recent call last):\n",
            "  File \"/usr/local/lib/python3.11/dist-packages/google/colab/_debugpy_repr.py\", line 54, in get_shape\n",
            "    shape = getattr(obj, 'shape', None)\n",
            "            ^^^^^^^^^^^^^^^^^^^^^^^^^^^\n",
            "  File \"/usr/local/lib/python3.11/dist-packages/werkzeug/local.py\", line 318, in __get__\n",
            "    obj = instance._get_current_object()\n",
            "          ^^^^^^^^^^^^^^^^^^^^^^^^^^^^^^\n",
            "  File \"/usr/local/lib/python3.11/dist-packages/werkzeug/local.py\", line 519, in _get_current_object\n",
            "    raise RuntimeError(unbound_message) from None\n",
            "RuntimeError: Working outside of request context.\n",
            "\n",
            "This typically means that you attempted to use functionality that needed\n",
            "an active HTTP request. Consult the documentation on testing for\n",
            "information about how to avoid this problem.\n",
            "ERROR:root:Unexpected exception finding object shape\n",
            "Traceback (most recent call last):\n",
            "  File \"/usr/local/lib/python3.11/dist-packages/google/colab/_debugpy_repr.py\", line 54, in get_shape\n",
            "    shape = getattr(obj, 'shape', None)\n",
            "            ^^^^^^^^^^^^^^^^^^^^^^^^^^^\n",
            "  File \"/usr/local/lib/python3.11/dist-packages/werkzeug/local.py\", line 318, in __get__\n",
            "    obj = instance._get_current_object()\n",
            "          ^^^^^^^^^^^^^^^^^^^^^^^^^^^^^^\n",
            "  File \"/usr/local/lib/python3.11/dist-packages/werkzeug/local.py\", line 519, in _get_current_object\n",
            "    raise RuntimeError(unbound_message) from None\n",
            "RuntimeError: Working outside of request context.\n",
            "\n",
            "This typically means that you attempted to use functionality that needed\n",
            "an active HTTP request. Consult the documentation on testing for\n",
            "information about how to avoid this problem.\n",
            "ERROR:root:Unexpected exception finding object shape\n",
            "Traceback (most recent call last):\n",
            "  File \"/usr/local/lib/python3.11/dist-packages/google/colab/_debugpy_repr.py\", line 54, in get_shape\n",
            "    shape = getattr(obj, 'shape', None)\n",
            "            ^^^^^^^^^^^^^^^^^^^^^^^^^^^\n",
            "  File \"/usr/local/lib/python3.11/dist-packages/werkzeug/local.py\", line 318, in __get__\n",
            "    obj = instance._get_current_object()\n",
            "          ^^^^^^^^^^^^^^^^^^^^^^^^^^^^^^\n",
            "  File \"/usr/local/lib/python3.11/dist-packages/werkzeug/local.py\", line 519, in _get_current_object\n",
            "    raise RuntimeError(unbound_message) from None\n",
            "RuntimeError: Working outside of request context.\n",
            "\n",
            "This typically means that you attempted to use functionality that needed\n",
            "an active HTTP request. Consult the documentation on testing for\n",
            "information about how to avoid this problem.\n",
            "ERROR:root:Unexpected exception finding object shape\n",
            "Traceback (most recent call last):\n",
            "  File \"/usr/local/lib/python3.11/dist-packages/google/colab/_debugpy_repr.py\", line 54, in get_shape\n",
            "    shape = getattr(obj, 'shape', None)\n",
            "            ^^^^^^^^^^^^^^^^^^^^^^^^^^^\n",
            "  File \"/usr/local/lib/python3.11/dist-packages/werkzeug/local.py\", line 318, in __get__\n",
            "    obj = instance._get_current_object()\n",
            "          ^^^^^^^^^^^^^^^^^^^^^^^^^^^^^^\n",
            "  File \"/usr/local/lib/python3.11/dist-packages/werkzeug/local.py\", line 519, in _get_current_object\n",
            "    raise RuntimeError(unbound_message) from None\n",
            "RuntimeError: Working outside of request context.\n",
            "\n",
            "This typically means that you attempted to use functionality that needed\n",
            "an active HTTP request. Consult the documentation on testing for\n",
            "information about how to avoid this problem.\n",
            "ERROR:root:Unexpected exception finding object shape\n",
            "Traceback (most recent call last):\n",
            "  File \"/usr/local/lib/python3.11/dist-packages/google/colab/_debugpy_repr.py\", line 54, in get_shape\n",
            "    shape = getattr(obj, 'shape', None)\n",
            "            ^^^^^^^^^^^^^^^^^^^^^^^^^^^\n",
            "  File \"/usr/local/lib/python3.11/dist-packages/werkzeug/local.py\", line 318, in __get__\n",
            "    obj = instance._get_current_object()\n",
            "          ^^^^^^^^^^^^^^^^^^^^^^^^^^^^^^\n",
            "  File \"/usr/local/lib/python3.11/dist-packages/werkzeug/local.py\", line 519, in _get_current_object\n",
            "    raise RuntimeError(unbound_message) from None\n",
            "RuntimeError: Working outside of request context.\n",
            "\n",
            "This typically means that you attempted to use functionality that needed\n",
            "an active HTTP request. Consult the documentation on testing for\n",
            "information about how to avoid this problem.\n"
          ]
        }
      ],
      "source": [
        "# 1. How do you create a basic Flask application?\n",
        "\n",
        "from flask import Flask\n",
        "app = Flask(__name__)\n",
        "\n",
        "@app.route('/')\n",
        "def hello():\n",
        "    return \"Hello, World!\"\n",
        "\n",
        "if __name__ == '__main__':\n",
        "    app.run()"
      ]
    },
    {
      "cell_type": "code",
      "execution_count": 59,
      "id": "e6d501e2",
      "metadata": {
        "id": "e6d501e2"
      },
      "outputs": [],
      "source": [
        "# 2. How do you serve static files like images or CSS in Flask?\n",
        "\n",
        "# Folder structure:\n",
        "# - static/\n",
        "#     - style.css\n",
        "#     - image.png\n",
        "# - app.py\n",
        "\n",
        "# In HTML file:\n",
        "# <link rel=\"stylesheet\" href=\"{{ url_for('static', filename='style.css') }}\">\n",
        "# <img src=\"{{ url_for('static', filename='image.png') }}\">"
      ]
    },
    {
      "cell_type": "code",
      "execution_count": 73,
      "id": "7674bf86",
      "metadata": {
        "id": "7674bf86"
      },
      "outputs": [],
      "source": [
        "# 3. How do you define different routes with different HTTP methods in Flask?\n",
        "\n",
        "from flask import Flask, request\n",
        "app = Flask(__name__)\n",
        "\n",
        "@app.route('/data', methods=['GET', 'POST'])\n",
        "def data():\n",
        "    if request.method == 'POST':\n",
        "        return 'POST Request Received'\n",
        "    return 'GET Request Received'\n",
        "\n"
      ]
    },
    {
      "cell_type": "code",
      "execution_count": 56,
      "id": "067b920d",
      "metadata": {
        "id": "067b920d"
      },
      "outputs": [],
      "source": [
        "# 4. How do you render HTML templates in Flask?\n",
        "\n",
        "from flask import Flask, render_template\n",
        "app = Flask(__name__)\n",
        "\n",
        "@app.route('/')\n",
        "def home():\n",
        "    return render_template('index.html')\n"
      ]
    },
    {
      "cell_type": "code",
      "execution_count": 60,
      "id": "07350f9e",
      "metadata": {
        "colab": {
          "base_uri": "https://localhost:8080/"
        },
        "id": "07350f9e",
        "outputId": "70462cc8-f587-46a6-b9cc-b975d21b8a9f"
      },
      "outputs": [
        {
          "output_type": "stream",
          "name": "stdout",
          "text": [
            "/user/panchanand\n"
          ]
        }
      ],
      "source": [
        "# 5. How can you generate URLs for routes in Flask using url_for?\n",
        "\n",
        "from flask import Flask, url_for\n",
        "app = Flask(__name__)\n",
        "\n",
        "@app.route('/user/<name>')\n",
        "def user(name):\n",
        "    return f\"User: {name}\"\n",
        "\n",
        "with app.test_request_context():\n",
        "    print(url_for('user', name='panchanand'))"
      ]
    },
    {
      "cell_type": "code",
      "execution_count": 61,
      "id": "fc08b7d8",
      "metadata": {
        "id": "fc08b7d8"
      },
      "outputs": [],
      "source": [
        "# 6. How do you handle forms in Flask?\n",
        "\n",
        "from flask import Flask, request, render_template\n",
        "app = Flask(__name__)\n",
        "\n",
        "@app.route('/', methods=['GET', 'POST'])\n",
        "def form():\n",
        "    if request.method == 'POST':\n",
        "        name = request.form['name']\n",
        "        return f'Hello {name}'\n",
        "    return render_template('form.html')"
      ]
    },
    {
      "cell_type": "code",
      "execution_count": 62,
      "id": "11abcd7b",
      "metadata": {
        "id": "11abcd7b"
      },
      "outputs": [],
      "source": [
        "# 7. How can you validate form data in Flask?\n",
        "\n",
        "from flask import Flask, request, render_template\n",
        "\n",
        "app = Flask(__name__)\n",
        "\n",
        "@app.route('/validate_form', methods=['POST'])\n",
        "def validate_form():\n",
        "    name = request.form.get('name')\n",
        "    if not name:\n",
        "        return \"Name is required\"\n",
        "    return f\"Name received: {name}\"\n",
        "\n",
        "# You would also need an HTML form to post data to this route.\n",
        "# Example form.html:\n",
        "# <form method=\"POST\" action=\"/validate_form\">\n",
        "#   <input type=\"text\" name=\"name\">\n",
        "#   <input type=\"submit\" value=\"Submit\">\n",
        "# </form>"
      ]
    },
    {
      "cell_type": "code",
      "execution_count": 63,
      "id": "205ab946",
      "metadata": {
        "id": "205ab946"
      },
      "outputs": [],
      "source": [
        "# 8. How do you manage sessions in Flask?\n",
        "\n",
        "from flask import Flask, session\n",
        "app = Flask(__name__)\n",
        "app.secret_key = 'secret'\n",
        "\n",
        "@app.route('/login')\n",
        "def login():\n",
        "    session['user'] = 'Panchanand'\n",
        "    return 'Logged in'\n",
        "\n",
        "@app.route('/profile')\n",
        "def profile():\n",
        "    return session.get('user', 'Guest')"
      ]
    },
    {
      "cell_type": "code",
      "execution_count": 64,
      "id": "904d9912",
      "metadata": {
        "id": "904d9912"
      },
      "outputs": [],
      "source": [
        "# 9. How do you redirect to a different route in Flask?\n",
        "\n",
        "from flask import Flask, redirect, url_for\n",
        "app = Flask(__name__)\n",
        "\n",
        "@app.route('/')\n",
        "def home():\n",
        "    return redirect(url_for('login'))\n",
        "\n",
        "@app.route('/login')\n",
        "def login():\n",
        "    return \"Please log in\""
      ]
    },
    {
      "cell_type": "code",
      "execution_count": 51,
      "id": "2f02a6fb",
      "metadata": {
        "id": "2f02a6fb"
      },
      "outputs": [],
      "source": [
        "# 10. How do you handle errors in Flask (e.g., 404)?\n",
        "\n",
        "from flask import Flask\n",
        "app = Flask(__name__)\n",
        "\n",
        "@app.errorhandler(404)\n",
        "def not_found(e):\n",
        "    return \"Page not found\", 404"
      ]
    },
    {
      "cell_type": "code",
      "execution_count": 65,
      "id": "c46cd002",
      "metadata": {
        "id": "c46cd002"
      },
      "outputs": [],
      "source": [
        "# 11. How do you structure a Flask app using Blueprints?\n",
        "\n",
        "# In app/\n",
        "# ├── main/\n",
        "# │   ├── __init__.py\n",
        "# │   └── routes.py\n",
        "# from flask import Blueprint\n",
        "# main = Blueprint('main', __name__)\n",
        "\n",
        "# @main.route('/')\n",
        "# def home():\n",
        "#     return \"Home from Blueprint\""
      ]
    },
    {
      "cell_type": "code",
      "execution_count": 52,
      "id": "eeaca81c",
      "metadata": {
        "id": "eeaca81c"
      },
      "outputs": [],
      "source": [
        "# 12. How do you define a custom Jinja filter in Flask?\n",
        "\n",
        "from flask import Flask\n",
        "app = Flask(__name__)\n",
        "\n",
        "@app.template_filter('reverse')\n",
        "def reverse_filter(s):\n",
        "    return s[::-1]"
      ]
    },
    {
      "cell_type": "code",
      "execution_count": 53,
      "id": "07f34187",
      "metadata": {
        "id": "07f34187"
      },
      "outputs": [],
      "source": [
        "# 13. How can you redirect with query parameters in Flask?\n",
        "\n",
        "from flask import Flask, redirect, url_for\n",
        "app = Flask(__name__)\n",
        "\n",
        "@app.route('/go')\n",
        "def go():\n",
        "    return redirect(url_for('hello', name='Panchanand'))\n",
        "\n",
        "@app.route('/hello')\n",
        "def hello():\n",
        "    name = request.args.get('name', 'Guest')\n",
        "    return f\"Hello {name}\""
      ]
    },
    {
      "cell_type": "code",
      "execution_count": 54,
      "id": "d1025e0e",
      "metadata": {
        "id": "d1025e0e"
      },
      "outputs": [],
      "source": [
        "# 14. How do you return JSON responses in Flask?\n",
        "\n",
        "from flask import Flask, jsonify\n",
        "app = Flask(__name__)\n",
        "\n",
        "@app.route('/api')\n",
        "def api():\n",
        "    return jsonify({'name': 'Panchanand', 'status': 'Success'})"
      ]
    },
    {
      "cell_type": "code",
      "source": [
        "# 15. How do you capture URL parameters in Flask?\n",
        "\n",
        "from flask import Flask\n",
        "app = Flask(__name__)\n",
        "\n",
        "@app.route('/user/<username>')\n",
        "def show_user(username):\n",
        "    output = f\"Hello {username}\"\n",
        "    print(output)\n",
        "    return output"
      ],
      "metadata": {
        "id": "eeB7FDDfelfB"
      },
      "id": "eeB7FDDfelfB",
      "execution_count": 72,
      "outputs": []
    }
  ],
  "metadata": {
    "colab": {
      "provenance": []
    },
    "language_info": {
      "name": "python"
    },
    "kernelspec": {
      "name": "python3",
      "display_name": "Python 3"
    }
  },
  "nbformat": 4,
  "nbformat_minor": 5
}